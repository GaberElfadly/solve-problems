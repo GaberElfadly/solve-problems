{
 "cells": [
  {
   "cell_type": "code",
   "execution_count": 1,
   "id": "bd978c54",
   "metadata": {},
   "outputs": [
    {
     "name": "stdout",
     "output_type": "stream",
     "text": [
      "current date and time :\n",
      "2022-08-30 22:36:20\n"
     ]
    }
   ],
   "source": [
    "import datetime\n",
    "now = datetime.datetime.now()\n",
    "print (\"current date and time :\")\n",
    "print (now.strftime(\"%Y-%m-%d %H:%M:%S\"))"
   ]
  },
  {
   "cell_type": "code",
   "execution_count": 3,
   "id": "5c6b394b",
   "metadata": {},
   "outputs": [
    {
     "name": "stdout",
     "output_type": "stream",
     "text": [
      " Twinkel, twinkel, little star, \n",
      "\tHow I wonder what you are! \n",
      "\t\tUp above the world so high,\n",
      "\t\tlike adimond in the sky. \n",
      "twinkel, twinkel, little star,\n",
      "\tHow I wonder what you are  \n"
     ]
    }
   ],
   "source": [
    "print(\" Twinkel, twinkel, little star, \\n\\tHow I wonder what you are! \\n\\t\\tUp above the world so high,\\n\\t\\tlike adimond in the sky. \\ntwinkel, twinkel, little star,\\n\\tHow I wonder what you are  \")"
   ]
  },
  {
   "cell_type": "code",
   "execution_count": 6,
   "id": "fee57dbf",
   "metadata": {},
   "outputs": [
    {
     "name": "stdout",
     "output_type": "stream",
     "text": [
      "python version\n",
      "3.9.12 (main, Apr  4 2022, 05:22:27) [MSC v.1916 64 bit (AMD64)]\n",
      "version info.\n",
      "sys.version_info(major=3, minor=9, micro=12, releaselevel='final', serial=0)\n"
     ]
    }
   ],
   "source": [
    "import sys \n",
    "print(\"python version\")\n",
    "print(sys.version)\n",
    "print(\"version info.\")\n",
    "print(sys.version_info)"
   ]
  },
  {
   "cell_type": "code",
   "execution_count": 14,
   "id": "5d0f0dd6",
   "metadata": {},
   "outputs": [
    {
     "name": "stdout",
     "output_type": "stream",
     "text": [
      "Input the radius of the circle : 1.1\n",
      "The area of the circle with radius 1.1 is:3.8013271108436504\n"
     ]
    }
   ],
   "source": [
    "from math import pi\n",
    "r = float(input (\"Input the radius of the circle : \"))\n",
    "print (\"The area of the circle with radius \" + str(r) +\" is:\" + str(pi * r**2))"
   ]
  },
  {
   "cell_type": "code",
   "execution_count": 23,
   "id": "b2abf5f0",
   "metadata": {},
   "outputs": [
    {
     "name": "stdout",
     "output_type": "stream",
     "text": [
      "Input some comma seprated nambers : 3,5,7,23\n",
      "list :  ['3', '5', '7', '23']\n",
      "tuple :  ('3', '5', '7', '23')\n"
     ]
    }
   ],
   "source": [
    "valuse = input(\"Input some comma seprated nambers : \")\n",
    "list = valuse.split(\",\")\n",
    "tuple = tuple(list)\n",
    "print('list : ',list)\n",
    "print('tuple : ',tuple)"
   ]
  },
  {
   "cell_type": "code",
   "execution_count": 24,
   "id": "c1684294",
   "metadata": {},
   "outputs": [
    {
     "name": "stdout",
     "output_type": "stream",
     "text": [
      "Input your first Name : GABER\n",
      "Input your last Nmae : ELFADLY\n",
      "hello ELFADLY GABER\n"
     ]
    }
   ],
   "source": [
    "fname = input(\"Input your first Name : \")\n",
    "Iname = input(\"Input your last Nmae : \")\n",
    "print (\"hello \" + Iname + \" \" + fname)"
   ]
  },
  {
   "cell_type": "code",
   "execution_count": 26,
   "id": "6b9f6c3d",
   "metadata": {},
   "outputs": [
    {
     "name": "stdout",
     "output_type": "stream",
     "text": [
      "Input the filename: abc.java\n",
      "the extension of the file is : 'java'\n"
     ]
    }
   ],
   "source": [
    "filename = input(\"Input the filename: \")\n",
    "f_extns =filename.split(\".\")\n",
    "print(\"the extension of the file is : \" + repr(f_extns[-1]))"
   ]
  },
  {
   "cell_type": "code",
   "execution_count": 30,
   "id": "885229c0",
   "metadata": {},
   "outputs": [
    {
     "name": "stdout",
     "output_type": "stream",
     "text": [
      "Red Black\n"
     ]
    }
   ],
   "source": [
    "color_list =[\"Red\",\"green\",\"whit\",\"Black\"]\n",
    "print( \"%s %s\"%(color_list[0],color_list[-1]))"
   ]
  },
  {
   "cell_type": "code",
   "execution_count": 32,
   "id": "069f8537",
   "metadata": {},
   "outputs": [
    {
     "name": "stdout",
     "output_type": "stream",
     "text": [
      "input an integer :5\n",
      "615\n"
     ]
    }
   ],
   "source": [
    "a = int(input(\"input an integer :\"))\n",
    "n1 =int( \"%s\" % (a) )\n",
    "n2 =int( \"%s%s\" % (a,a) )\n",
    "n3 =int( \"%s%s%s\" % (a,a,a) )\n",
    "print(n1+n2+n3)"
   ]
  },
  {
   "cell_type": "code",
   "execution_count": 33,
   "id": "05d068c2",
   "metadata": {},
   "outputs": [
    {
     "name": "stdout",
     "output_type": "stream",
     "text": [
      "the examination will start from : 30 / 8 / 2022\n"
     ]
    }
   ],
   "source": [
    "exam_st_date = (30,8,2022)\n",
    "print(\"the examination will start from : %i / %i / %i\"%exam_st_date)"
   ]
  },
  {
   "cell_type": "code",
   "execution_count": null,
   "id": "d6520d82",
   "metadata": {},
   "outputs": [],
   "source": []
  }
 ],
 "metadata": {
  "kernelspec": {
   "display_name": "Python 3 (ipykernel)",
   "language": "python",
   "name": "python3"
  },
  "language_info": {
   "codemirror_mode": {
    "name": "ipython",
    "version": 3
   },
   "file_extension": ".py",
   "mimetype": "text/x-python",
   "name": "python",
   "nbconvert_exporter": "python",
   "pygments_lexer": "ipython3",
   "version": "3.9.12"
  }
 },
 "nbformat": 4,
 "nbformat_minor": 5
}
